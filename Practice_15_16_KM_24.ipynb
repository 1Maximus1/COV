{
  "cells": [
    {
      "cell_type": "markdown",
      "metadata": {
        "id": "FMqboNwO4rVs"
      },
      "source": [
        "# **Курс \"Програмування на мові Python\"**"
      ]
    },
    {
      "attachments": {},
      "cell_type": "markdown",
      "metadata": {
        "id": "A2T6MigL5Z06"
      },
      "source": [
        "## **Практичні зайняття №15-16**\n",
        "\n",
        "### Тема: \"Ітератори та генератори. Декоратори\""
      ]
    },
    {
      "cell_type": "markdown",
      "metadata": {
        "id": "cfCdgK2zXm7e"
      },
      "source": [
        "### **Завдання 1 (2 бали)**\n",
        "\n",
        "Розрахуйте коефієнти розкладу [біному Ньютона](https://uk.wikipedia.org/wiki/%D0%91%D1%96%D0%BD%D0%BE%D0%BC_%D0%9D%D1%8C%D1%8E%D1%82%D0%BE%D0%BD%D0%B0) за допомогою генератора.\n",
        "\n",
        "1. Степінь многочлена користувач має вводити з клавіатури (невід'ємне ціле число).\n",
        "\n",
        "2. Програма має підраховувати біноміальні коефіцієнти для біномів усіх степенів, починаючи від 0 і закінчуючи тим, який ввів користувач.\n",
        "\n",
        "3. Коефіцієнти мають виводитись у вигляді трикутника Паскаля.\n",
        "\n",
        "Наприклад, якщо користувач введе число 5, програма має вивести результат:\n",
        "\n",
        "1\n",
        "\n",
        "1 1\n",
        "\n",
        "1 2 1\n",
        "\n",
        "1 3 3 1\n",
        "\n",
        "1 4 6 4 1\n",
        "\n",
        "1 5 10 10 5 1\n"
      ]
    },
    {
      "cell_type": "code",
      "execution_count": null,
      "metadata": {
        "id": "Bku8v9CjE_Qc"
      },
      "outputs": [],
      "source": [
        "from math import factorial, inf\n",
        "\n",
        "def try_input(type,input_text,error_text,overflow_text,fr=-inf,to=inf):\n",
        "    correct=False\n",
        "    while not correct:\n",
        "        i=input(input_text)\n",
        "        try:\n",
        "            i=type(i)\n",
        "            if i>=fr and i<=to:\n",
        "                correct=True\n",
        "            else:\n",
        "                print(overflow_text)\n",
        "                print('-'*50)\n",
        "        except:\n",
        "            print(error_text)\n",
        "            print('-'*50)\n",
        "    return i\n",
        "def triangle_of_Pascal(n):\n",
        "    for i in range(n+2):\n",
        "        for j in range(i):\n",
        "            if j==i-1:\n",
        "                yield 1\n",
        "            else:\n",
        "                yield int(factorial(i-1)/(factorial(j)*factorial(i-1-j)))\n",
        "                yield ' '\n",
        "        yield '\\n'\n",
        "\n",
        "user_data=try_input(int,\"Please, enter the binomial: \",\"Error: Invalid Value\",'Error: Value Error!(must be a non-negative integer)',0)\n",
        "\n",
        "for i in triangle_of_Pascal(user_data):\n",
        "    print(i,end='')"
      ]
    },
    {
      "attachments": {},
      "cell_type": "markdown",
      "metadata": {},
      "source": [
        "### **Завдання 2 (1 бал)**\n",
        "\n",
        "Реалізуйте  генератор колоди карт(52 штуки). Кожна карта подається у вигляді рядка типу \"*5 diamonds*\".\n",
        "\n",
        "1. 4 масті (diamonds, clubs, hearts, spades) та 13 значень карт мають зберігатись у двох окремих списках (кортежах).\n",
        "\n",
        "2. Значення від 2 до 10 мають гереруватись за допомогою функції range().\n",
        "\n",
        "3. Окрім чисел, у списку значень мають бути присутніми елементи 'A' (Ace - туз), 'J' (Jack - валет), 'Q' (Queen - дама) та 'K' (King - король).\n",
        "\n",
        "4. Карти мають виводитись у порядку від 'A' до 'K'. Порядок виведення мастей не має значення.\n",
        "\n",
        "    *Приклад:*\n",
        "\n",
        "    А diamonds\n",
        "\n",
        "    2 diamonds\n",
        "\n",
        "    ...\n",
        "\n",
        "    K diamonds\n",
        "\n",
        "    A clubs\n",
        "\n",
        "    ...\n",
        "\n",
        "5. Кожна наступна карта має виводитись за допомогою функції next().\n",
        "\n",
        "6. Виведення карт має завершуватись виключенням StopIteration."
      ]
    },
    {
      "cell_type": "code",
      "execution_count": null,
      "metadata": {},
      "outputs": [],
      "source": [
        "def card_deck_generator(suits,card_values):\n",
        "    for i in suits:\n",
        "        for j in card_values:\n",
        "            yield j, i\n",
        "\n",
        "suits=('diamonds', 'clubs', 'hearts', 'spade')\n",
        "\n",
        "value0 = tuple(\"A\")\n",
        "value1 = tuple(range(2, 11))\n",
        "value2 = (\"J\", \"Q\", \"K\")\n",
        "value = value0 + value1 + value2\n",
        "card_generator=card_deck_generator(suits,value)\n",
        "\n",
        "for i in range(53):\n",
        "    print(*(next(card_generator)))\n",
        "\n",
        "\n"
      ]
    },
    {
      "attachments": {},
      "cell_type": "markdown",
      "metadata": {},
      "source": [
        "### **Завдання 3 (3 бали)**\n",
        "\n",
        "Реалізуйте підрахунок площі трикутника з використанням декоратора, який перевірятиме можливість побудови трикутника з трьох введених користувачем сторін.\n",
        "\n",
        "1. Напишіть функцію area_calculation, яка підраховуватиме площу трикутника за трьома сторонами. Для підрахунку можете скористатись формулою Герона.\n",
        "\n",
        "2. Напишіть функцію check, яка перевірятиме правильність введених користувачем значень (значення мають бути додатними числами, не обов'язково цілими).\n",
        "\n",
        "3. Створіть декоратор triangle_ineq, який перевірятиме виконання нерівності трикутрика для трьох заданих користувачем сторін. Навісьте декоратор triangle_ineq на функція area_calculation та перевірте правильність роботи програми."
      ]
    },
    {
      "cell_type": "code",
      "execution_count": null,
      "metadata": {},
      "outputs": [],
      "source": [
        "from math import sqrt,inf\n",
        "\n",
        "def area_calculation(the_first_side,the_second_side,the_third_side):\n",
        "    p=(the_first_side+the_second_side+the_third_side)/2\n",
        "    return sqrt(p*(p-the_first_side)*(p-the_second_side)*(p-the_third_side))\n",
        "\n",
        "def check(type,input_text,error_text,overflow_text,fr=-inf,to=inf):\n",
        "    correct=False\n",
        "    while not correct:\n",
        "        i=input(input_text)\n",
        "        try:\n",
        "            i=type(i)\n",
        "            if i>=fr and i<=to:\n",
        "                correct=True\n",
        "            else:\n",
        "                print(overflow_text)\n",
        "                print('-'*50)\n",
        "        except:\n",
        "            print(error_text)\n",
        "            print('-'*50)\n",
        "    return i\n",
        "\n",
        "\n",
        "def triangle_ineq(func):\n",
        "    def wrapper(a,b,c):\n",
        "        if a + b> c and a + c > b and b + c > a:\n",
        "            return func(a,b,c)\n",
        "        else:\n",
        "            return \"Triangle inequality does not hold for the given sides!\"\n",
        "    return wrapper\n",
        "\n",
        "area_calculation=triangle_ineq(area_calculation)\n",
        "\n",
        "the_first_side=check(float,\"Please, enter the first side of triangle: \",\"Error: Invalid Value\",'Error: Value Error!(must be a non-negative number)',0)\n",
        "print('-'*50)\n",
        "the_second_side=check(float,\"Please, enter the second side of triangle: \",\"Error: Invalid Value\",'Error: Value Error!(must be a non-negative number)',0)\n",
        "print('-'*50)\n",
        "the_third_side=check(float,\"Please, enter the third side of triangle: \",\"Error: Invalid Value\",'Error: Value Error!(must be a non-negative number)',0)\n",
        "print('-'*50)\n",
        "\n",
        "if area_calculation(the_first_side, the_second_side, the_third_side)==\"Triangle inequality does not hold for the given sides\":\n",
        "    print(area_calculation(the_first_side, the_second_side, the_third_side))\n",
        "else:\n",
        "    print('The area of a triangle: ',area_calculation(the_first_side, the_second_side, the_third_side))"
      ]
    }
  ],
  "metadata": {
    "colab": {
      "collapsed_sections": [],
      "name": "Practice_10-11_KM_01_.ipynb",
      "provenance": []
    },
    "kernelspec": {
      "display_name": "Python 3",
      "language": "python",
      "name": "python3"
    },
    "language_info": {
      "codemirror_mode": {
        "name": "ipython",
        "version": 3
      },
      "file_extension": ".py",
      "mimetype": "text/x-python",
      "name": "python",
      "nbconvert_exporter": "python",
      "pygments_lexer": "ipython3",
      "version": "3.10.7 (tags/v3.10.7:6cc6b13, Sep  5 2022, 14:08:36) [MSC v.1933 64 bit (AMD64)]"
    },
    "vscode": {
      "interpreter": {
        "hash": "58837b1b657ea91009af8409fc244ae3b5ccf93ea980d6fb6b80adc5f697f4cc"
      }
    }
  },
  "nbformat": 4,
  "nbformat_minor": 0
}
