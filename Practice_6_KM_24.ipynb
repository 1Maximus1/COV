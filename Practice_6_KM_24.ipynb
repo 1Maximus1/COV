{
  "cells": [
    {
      "cell_type": "markdown",
      "metadata": {
        "id": "FMqboNwO4rVs"
      },
      "source": [
        "# **Курс \"Програмування на мові Python\"**"
      ]
    },
    {
      "cell_type": "markdown",
      "metadata": {
        "id": "A2T6MigL5Z06"
      },
      "source": [
        "## **Практичне зайняття №6**\n",
        "### Тема: \"Робота з кортежами, множинами та словниками\""
      ]
    },
    {
      "cell_type": "markdown",
      "metadata": {
        "id": "4AV5CN7N4xja"
      },
      "source": [
        "### **Завдання 1 (1,5 бали)**\n",
        "\n",
        "Напишіть програму, яка визначала б, чи можна з літер однієї фрази скласти іншу фразу. Наприклад:\n",
        "\n",
        "\"William Shakespeare\" -> \"A small spark\"\n",
        "\n",
        "Перша фраза містить 11 унікальних літер (хоча деякі повторюються): a, e, h, i, k, l, m, p, r, s та w. Друга фраза містить 7 унікальних літер: a, k, l, m, p, r та s. Кожна з літер другої фрази зустрічається принаймні один раз у першій фразі.\n",
        "\n",
        "1. Обидві фрази повинні вводитись користувачем з клавіатури.\n",
        "\n",
        "2. Скористайтесь властивістю множин у мові програмування Python для виділення колекції унікальних літер.\n",
        "\n",
        "3. У множину не повинні потрапити пробіли, розділові знаки та інші символи, що не є літерами (скористайтесь методом **isalpha()**). Також усі літери мають бути переведені в нижній або верхній регістр (скористайтесь методами **lower()** або **upper()**).\n",
        "\n",
        "4. Зверніть увагу на те, що літери як в першій, так і вдругій фразі можуть повторюватись. Однак множина унікальних літер другої фрази повинна бути підмножиною множини унікальних літер першої фрази.\n",
        "\n",
        "5. У складі змістовного повідомлення програма повинна виводити множину літер першої фрази, множину літер другої фрази, а також змістовне повідомлення про те, чи можна скласти з літер першої фрази другу фразу."
      ]
    },
    {
      "cell_type": "code",
      "execution_count": 2,
      "metadata": {
        "id": "9Mesp1jV4xjb"
      },
      "outputs": [
        {
          "name": "stdout",
          "output_type": "stream",
          "text": [
            "The set of the first phrase:  {'i', 'a', 'l', 'w', 'm'}\n",
            "The set of the second phrase:  {'w', 'i', 'l'}\n",
            "You can create phrase!\n"
          ]
        }
      ],
      "source": [
        "def ftry_input(input_text,error_text):\n",
        "\tcorrect=False\n",
        "\ti=input(input_text)\n",
        "\twhile not correct:\n",
        "\t\ti = ''.join(i.split())\n",
        "\t\tif i.isalpha()==False:\n",
        "\t\t\ti=input(error_text)\n",
        "\t\telse:\n",
        "\t\t\tcorrect=True\n",
        "\treturn i\n",
        "def comp_elements(user_word1,user_word2):\n",
        "\tfind=False\n",
        "\tfor el in user_word2:\n",
        "\t\tif el in user_word1:\n",
        "\t\t\tfind=True\n",
        "\t\telse:\n",
        "\t\t\treturn False\n",
        "\treturn find\n",
        "\n",
        "user_word1=ftry_input(\"Please, enter the first phrase (without spaces,comes etc.): \", \"Error! Try egain: \")\n",
        "user_word2=ftry_input(\"Please, enter the second phrase (without spaces,comes etc.): \", \"Error! Try egain: \")\n",
        "user_word1=user_word1.lower()\n",
        "user_word2=user_word2.lower()\n",
        "user_word1=set(user_word1)\n",
        "user_word2=set(user_word2)\n",
        "find=comp_elements(user_word1,user_word2);\n",
        "if find == True:\n",
        "\tprint(\"The set of the first phrase: \", user_word1)\n",
        "\tprint(\"The set of the second phrase: \",user_word2)\n",
        "\tprint(\"You can create phrase!\")\n",
        "else:\n",
        "\tprint(\"The set of the first phrase: \", user_word1)\n",
        "\tprint(\"The set of the second phrase: \",user_word2)\n",
        "\tprint(\"You can`t create phrase!\")"
      ]
    },
    {
      "cell_type": "markdown",
      "metadata": {
        "id": "y7pQFLvSCkym"
      },
      "source": [
        "### **Завдання 2 (1,5 бали)**\n",
        "\n",
        "У Канаді поштові індекси мають специфічну форму. Вони складаються з трьох символів. Перший символ вказує на провінцію. Другий символ вказує на те, у міській чи у сільській місцевості знаходиться адресат. Якщо у сільській місцевості - це 0. Якщо у міській - будь-яка інша цифра. Провінція позначається великою латинською літерою. Повний перелік провінцій на літер, що їм відповідають, подано у таблиці.\n",
        "\n",
        "Провінція | Перший символ поштового індекса\n",
        "--- | ---\n",
        "Newfoundland | A\n",
        "Nova Scotia | B\n",
        "Prince Edward Island | C\n",
        "New Brunswick | E\n",
        "Quebec | G, H and J\n",
        "Ontario | K, L, M, N and P\n",
        "Manitoba | R\n",
        "Saskatchewan | S\n",
        "Alberta | T\n",
        "British Columbia | V\n",
        "Nunavut | X\n",
        "Northwest Territories | X\n",
        "Yukon | Y\n",
        "\n",
        "Напишіть програму, яка зчитує поштовий індекс, введений користувачем, та виводить у складі змістовного повідомлення провінцію адресата та інформацію про те, у міській чи у сільській місцевості він знаходиться. Наприклад, якщо користувач вводить T2N, програма повинна визначити, що адресат знаходиться у міській місцевості провінції Альберта. Якщо він вводить X0A, адресат знаходиться у сільській місцевості провінції Нанавут або Північних Територій (зверніть увагу на те, що літера X повторюється для двох провінцій). Третя літера для нас неважлива. Зауважте, що літери D, F, I, O, Q, U, W, та Z не позначають жодної з провінцій Канади.\n",
        "\n",
        "1. Скористайтесь словником для збереження усіх провінцій та літер, що їм відповідають.\n",
        "\n",
        "2. Користувач повинен ввести рівно 3 символи. Перший і останній символи мають бути літерами, другий - цифрою. Для перевірки скористайтесь методами **isalpha()** та **isdigit()**. Якщо користувач введе не 3 символи, а більше чи менше, або ж послідовність літер та цифр не буде співпадати з шаблоном, програма має вивести повідомлення про помилку.\n",
        "\n",
        "3. Програма повинна приймати літери як верхнього, так і нижнього регістрів. Однак виводити - лише у верхньому регістрі (скористайтесь методами **lower()** або **upper()**)."
      ]
    },
    {
      "cell_type": "code",
      "execution_count": 1,
      "metadata": {
        "id": "EVY800vg4xjg"
      },
      "outputs": [
        {
          "name": "stdout",
          "output_type": "stream",
          "text": [
            "Your index is:  S02\n",
            "Province is  Saskatchewan\n",
            "You are in the countryside.\n"
          ]
        }
      ],
      "source": [
        "province_kan = { \"A\": 'Newfoundland',\n",
        "\t\t\t\"B\":\"Nova Scotia\",\n",
        "\t\t\t\"C\":\"Prince Edward Island\",\n",
        "\t\t\t\"E\":\"New Brunswick\",\n",
        "\t\t\t'J':\"Quebec\",\n",
        "\t\t\t\"G\":\"Quebec\",\n",
        "\t\t\t\"H\":\"Quebec\",\n",
        "\t\t\t'K':\"Ontario\",\n",
        "\t\t\t\"L\":\"Ontario\",\n",
        "\t\t\t\"M\":\"Ontario\",\n",
        "\t\t\t\"N\":\"Ontario\",\n",
        "\t\t\t\"P\":\"Ontario\",\n",
        "\t\t\t\"R\":\"Manitoba\",\n",
        "\t\t\t'S':\"Saskatchewan\",\n",
        "\t\t\t\"T\":\"Alberta\",\n",
        "\t\t\t\"V\":\"British Columbia\",\n",
        "\t\t\t\"X\":\"Nunavut or Northwest Territories\",\n",
        "\t\t\t\"Y\":\"Yukon\"\n",
        "}\n",
        "correct =False\n",
        "user_index=input(\"Please, enter your zip code: \")\n",
        "user_index=user_index.strip()\n",
        "while not correct:\n",
        "\tif user_index.isalnum()==False:\n",
        "\t\tuser_index=input(\"Error! Try again: \")\n",
        "\telif len(user_index)!=3:\n",
        "\t\tuser_index=input(\"Error! Try again: \")\n",
        "\telif user_index[0].isalpha()==False or user_index[1].isdigit() ==False:\n",
        "\t\tuser_index=input(\"Error! Try again: \")\n",
        "\telse:\n",
        "\t\tcorrect=True\n",
        "user_index=user_index.upper()\n",
        "print(\"Your index is: \", user_index)\n",
        "if user_index[0] in province_kan:\n",
        "\tprint(\"Province is \",province_kan[user_index[0]])\n",
        "\tif user_index[1] =='0':\n",
        "\t\tprint(\"You are in the countryside.\")\n",
        "\telif user_index[1] !='0':\n",
        "\t\tprint(\"You are in the urban area.\")\n",
        "else:\n",
        "\tprint(\"We have no information about your zip code!\")"
      ]
    }
  ],
  "metadata": {
    "colab": {
      "collapsed_sections": [],
      "name": "Practice_5_KM_04_.ipynb",
      "provenance": []
    },
    "kernelspec": {
      "display_name": "Python 3.10.7 64-bit",
      "language": "python",
      "name": "python3"
    },
    "language_info": {
      "codemirror_mode": {
        "name": "ipython",
        "version": 3
      },
      "file_extension": ".py",
      "mimetype": "text/x-python",
      "name": "python",
      "nbconvert_exporter": "python",
      "pygments_lexer": "ipython3",
      "version": "3.10.7"
    },
    "vscode": {
      "interpreter": {
        "hash": "58837b1b657ea91009af8409fc244ae3b5ccf93ea980d6fb6b80adc5f697f4cc"
      }
    }
  },
  "nbformat": 4,
  "nbformat_minor": 2
}
