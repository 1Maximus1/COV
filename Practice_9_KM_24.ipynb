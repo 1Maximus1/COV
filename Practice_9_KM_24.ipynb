{
  "cells": [
    {
      "cell_type": "markdown",
      "metadata": {
        "id": "FMqboNwO4rVs"
      },
      "source": [
        "# **Курс \"Програмування на мові Python\"**"
      ]
    },
    {
      "cell_type": "markdown",
      "metadata": {
        "id": "A2T6MigL5Z06"
      },
      "source": [
        "## **Практичне зайняття №9**\n",
        "\n",
        "### Тема: \"Робота з функціями. Локальні та глобальні змінні\""
      ]
    },
    {
      "cell_type": "markdown",
      "metadata": {
        "id": "cfCdgK2zXm7e"
      },
      "source": [
        "### **Завдання 1 (3 бали)**\n",
        "\n",
        "**Підрахувати визначник матриці, використовуючи правило перестановок.**\n",
        "\n",
        "Функція random_matrix() призначена для створення квадратної матриці випадкових чисел. Її змінювати непотрібно.\n",
        "\n",
        "Приклад використання методу permutations() для створення списку перестановок також подається у комірці з кодом.\n",
        "\n",
        "1) Створити 3 функції: функцію створення списку перестановок, функцію підрахунку добутків та функцію підрахунку загальної суми.\n",
        "\n",
        "2) Кожна функція має супроводжуватись рядком документації, що буде коротко описувати її призначення.\n",
        "\n",
        "3) Розмірність квадратної матриці має вводитись користувачем з клавіатури. Підрахунки виконувати лише в тому разі, якщо користувач введе ціле додатне число.\n",
        "\n",
        "4) Загальний результат повинен підраховуватись за допомогою композиції функцій.\n",
        "\n",
        "За бажанням можна перевірити правильність роботи програми за допомогою функції np.linalg.det(a)."
      ]
    },
    {
      "cell_type": "code",
      "execution_count": null,
      "metadata": {
        "id": "ifNX2M7LXm7f"
      },
      "outputs": [],
      "source": [
        "import numpy as np\n",
        "import itertools\n",
        "import math\n",
        "import functools\n",
        "\n",
        "\n",
        "def random_matrix(dim):\n",
        "\t'''\n",
        "\tThe function generates dim x dim array \n",
        "\tof integers between 0 and 10\n",
        "\t'''\n",
        "\tmatrix=np.random.randint(10,size = (dim, dim))\n",
        "\treturn matrix\n",
        "\n",
        "\n",
        "def try_input(type,input_text,error_text):\n",
        "    '''\n",
        "    The function check the values entered from the console (it have to be positive integers)\n",
        "    '''\n",
        "    correct=False\n",
        "    while not correct:\n",
        "        i=input(input_text) \n",
        "        try:\n",
        "            i=type(i)\n",
        "            if i>=0:\n",
        "                correct=True\n",
        "            else:\n",
        "                print(error_text)\n",
        "        except:\n",
        "            print(error_text)\n",
        "    return i\n",
        "\n",
        "\n",
        "def permutate_list(dimensity,matrix):\n",
        "    '''\n",
        "    The function of creating a list of matrix element permutation\n",
        "    '''\n",
        "\n",
        "    reshuffle=math.factorial(dimensity)\n",
        "    \n",
        "    lis=[]\n",
        "\n",
        "    permutate_list=[]\n",
        "    \n",
        "    for i in range(dimensity):\n",
        "        lis.append(str(i))\n",
        "    lis=tuple(map(int,lis))\n",
        "    t=list(itertools.permutations(lis,dimensity))\n",
        "    t=list(map(list,t))\n",
        "\n",
        "    list_of_sign=[]\n",
        "    \n",
        "    for e in t:\n",
        "        v = 0\n",
        "        index = 1\n",
        "        for i in range(len(e)):\n",
        "            for s in range(i):\n",
        "                if e[s] > e[i]:\n",
        "                    v += 1\n",
        "        if v % 2 == 0 or v == 0:\n",
        "            list_of_sign.append(index)\n",
        "        else:\n",
        "            list_of_sign.append((-1)*(index))\n",
        "    \n",
        "    \n",
        "    for j in range(reshuffle):\n",
        "        intermediate_list=[]   \n",
        "        for i in range(dimensity):\n",
        "            intermediate_list.append(matrix[i][t[j][i]])\n",
        "            if i==0:\n",
        "                intermediate_list[0]=intermediate_list[0]*list_of_sign[j]\n",
        "            if i==dimensity-1:\n",
        "                permutate_list.append(intermediate_list)\n",
        "    return permutate_list\n",
        "\n",
        "\n",
        "def calculation_of_product(permutate_list):\n",
        "    '''\n",
        "    This function works with inversions and performs a multiplication operation\n",
        "    '''\n",
        "    calculation_of_product=[]\n",
        "    for el in permutate_list:\n",
        "        calculation_of_product.append(functools.reduce(lambda a,b: a*b,el))\n",
        "    return calculation_of_product\n",
        "\n",
        " \n",
        "def general_sum(calculation_of_product):\n",
        "    '''\n",
        "    This function collects results together\n",
        "    '''\n",
        "    general_sum=sum(calculation_of_product)\n",
        "    return general_sum\n",
        "\n",
        "\n",
        "dimensity=try_input(int,\"Please, enter the dimensity of determinant A(x*x): \",\"Error: enter the right value!\")\n",
        "matrix=random_matrix(dimensity)\n",
        "print(matrix)\n",
        "print('-'*80)\n",
        "print(\"det A = \",general_sum(calculation_of_product(permutate_list(dimensity,matrix))))"
      ]
    }
  ],
  "metadata": {
    "colab": {
      "collapsed_sections": [],
      "name": "Practice_7_KM-01_.ipynb",
      "provenance": []
    },
    "kernelspec": {
      "display_name": "Python 3.10.7 64-bit",
      "language": "python",
      "name": "python3"
    },
    "language_info": {
      "codemirror_mode": {
        "name": "ipython",
        "version": 3
      },
      "file_extension": ".py",
      "mimetype": "text/x-python",
      "name": "python",
      "nbconvert_exporter": "python",
      "pygments_lexer": "ipython3",
      "version": "3.10.7"
    },
    "vscode": {
      "interpreter": {
        "hash": "58837b1b657ea91009af8409fc244ae3b5ccf93ea980d6fb6b80adc5f697f4cc"
      }
    }
  },
  "nbformat": 4,
  "nbformat_minor": 0
}
