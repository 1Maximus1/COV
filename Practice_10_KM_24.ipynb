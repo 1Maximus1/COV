{
  "cells": [
    {
      "cell_type": "markdown",
      "metadata": {
        "id": "FMqboNwO4rVs"
      },
      "source": [
        "# **Курс \"Програмування на мові Python\"**"
      ]
    },
    {
      "cell_type": "markdown",
      "metadata": {
        "id": "A2T6MigL5Z06"
      },
      "source": [
        "## **Практичне зайняття №10**\n",
        "\n",
        "### Тема: \"Лямбда-функції. Функції вищих порядків\""
      ]
    },
    {
      "cell_type": "markdown",
      "metadata": {
        "id": "cfCdgK2zXm7e"
      },
      "source": [
        "### **Завдання 1 (1 бал)**\n",
        "\n",
        "Продавець роздрібного товару влаштовує розпродаж. Для всіх товарів знижка однакова - 60%. Щоб вивісити нові цінники, продавець хоче скласти таблицю, в якій для кожного товару буде підрахована його нова вартість та сума знижки.\n",
        "\n",
        "Написати програму, яка буде генерувати таку таблицю. Вартість одиниць товарів до розпродажу подано у списку products_list. \n",
        "\n",
        "1. Для підрахунку невідомих значень повинні використовуватись вбудовані функції вищих порядків.\n",
        "\n",
        "2. Вартість з урахуванням знижки та суми знижок для кожного товару повинні зберігатись у двох окремих списках. Порядок товарів у нових списках повинен бути такий самий, як і в списку products_list.\n",
        "\n",
        "3. Кожне підраховане числове значення має бути округлене до сотих.\n",
        "\n",
        "4. Дані повинні виводитись у вигляді:\n",
        "\n",
        "**Discount table:**\n",
        "\n",
        "**15.89 6.36 9.53**\n",
        "\n",
        "**39.99 16.0 23.99**\n",
        "\n",
        "**...**\n",
        "\n",
        "\n",
        "products_list = [15.89, 39.99, 82.10, 135.85, 318.90, 510.00, 799.98]"
      ]
    },
    {
      "cell_type": "code",
      "execution_count": null,
      "metadata": {
        "id": "ifNX2M7LXm7f"
      },
      "outputs": [],
      "source": [
        "products_list = [15.89, 39.99, 82.10, 135.85, 318.90, 510.00, 799.98]\n",
        "price_with_discount = list()\n",
        "discount = list()\n",
        "\n",
        "discount=list(map(lambda x:round((x*0.6),2),products_list))\n",
        "\n",
        "price_with_discount=list(map(lambda x,y:round((x-y),2),products_list,discount))\n",
        "\n",
        "print('**Discount table:**')\n",
        "\n",
        "for i in range(len(products_list)):\n",
        "    table = f'**{products_list[i]:<6}{price_with_discount[i]:^8}{discount[i]:>6}**'\n",
        "    print(table)"
      ]
    },
    {
      "cell_type": "markdown",
      "metadata": {},
      "source": [
        "### **Завдання 2 (2 бали)**\n",
        "\n",
        "Зазвичай рік має 365 днів. Однак у високосні роки додається ще один день - 29 лютого. Правила визначення високосного року такі:\n",
        "\n",
        "- Будь-який рік, що ділиться на 400 - високосний.\n",
        "\n",
        "- З тих років, що залишились, будь-який рік, що ділиться на 100 - **не** високосний.\n",
        "\n",
        "- З тих років, що залишились, будь-який рік, що ділиться на 4 - високосний.\n",
        "\n",
        "- Усі інші роки, що залишились - **не** високосні.\n",
        "\n",
        "1) Створіть функцію, в якій за допомогою вбудованих функцій вищих порядків будуть визначатися високосні роки серед перелічених років у списку years. Створена функція має повертати список високосних років.\n",
        "\n",
        "2) Створіть функцію вищих порядків, яка прийматиме на вхід попередню функцію та визначатиме кількість днів у місяці. Також функція повинна приймати на вхід ще 2 параметри: ціле число від 1 до 12 (місяць) та рік, як ціле чотирицифрове число. Ці значення корисувач має вводити з клавіатури. Перевірку введених даних слід виконувати поза межами функцій."
      ]
    },
    {
      "cell_type": "code",
      "execution_count": null,
      "metadata": {},
      "outputs": [],
      "source": [
        "import numpy as np\n",
        "from math import inf\n",
        "\n",
        "def try_input(type,input_text,error_text,fr=-inf,to=inf):\n",
        "    correct=False\n",
        "    while not correct:\n",
        "        i=input(input_text)\n",
        "        try:\n",
        "            i=type(i)\n",
        "            if i>=fr and i<=to:\n",
        "                correct=True\n",
        "            else:\n",
        "                print(error_text)\n",
        "        except:\n",
        "            print(error_text)\n",
        "    return i\n",
        "\n",
        "\n",
        "def leap_year(years):\n",
        "    if len(years)==1:\n",
        "        years.append(1)\n",
        "    leap_year_list=list()\n",
        "    leap_year_list=list(filter(lambda x: (x%400==0) or (x%4==0 and x%100!=0) ,years))\n",
        "    return leap_year_list\n",
        "\n",
        "def number_of_days_in_month(function,month,year):\n",
        "    all_month={ 1:31,\n",
        "                2:28,\n",
        "                3:31,\n",
        "                4:30,\n",
        "                5:31,\n",
        "                6:30,\n",
        "                7:31,\n",
        "                8:31,\n",
        "                9:30,\n",
        "                10:31,\n",
        "                11:30,\n",
        "                12:31\n",
        "    }\n",
        "    year=function([year])\n",
        "    if not year:\n",
        "        return all_month[month]\n",
        "    else:\n",
        "        all_month[2]=29\n",
        "        return all_month[month]\n",
        "\n",
        "\n",
        "\n",
        "years = np.arange(1900, 2020+1, 1)\n",
        "\n",
        "result1=leap_year(years)\n",
        "print(f\"The leap years: {result1}\")\n",
        "\n",
        "user_month = try_input(int,\"Please, enter the month: \",\"Error: Incorrect value!\",1,12)\n",
        "user_year = try_input(int,\"Please, enter the year: \",\"Error: Incorrect value!\",0)\n",
        "result2 = number_of_days_in_month(leap_year,user_month,user_year)\n",
        "print(f'There are {result2} days in this month')\n"
      ]
    }
  ],
  "metadata": {
    "colab": {
      "collapsed_sections": [],
      "name": "Practice_7_KM-01_.ipynb",
      "provenance": []
    },
    "kernelspec": {
      "display_name": "Python 3.10.7 64-bit",
      "language": "python",
      "name": "python3"
    },
    "language_info": {
      "codemirror_mode": {
        "name": "ipython",
        "version": 3
      },
      "file_extension": ".py",
      "mimetype": "text/x-python",
      "name": "python",
      "nbconvert_exporter": "python",
      "pygments_lexer": "ipython3",
      "version": "3.10.7"
    },
    "vscode": {
      "interpreter": {
        "hash": "58837b1b657ea91009af8409fc244ae3b5ccf93ea980d6fb6b80adc5f697f4cc"
      }
    }
  },
  "nbformat": 4,
  "nbformat_minor": 0
}
