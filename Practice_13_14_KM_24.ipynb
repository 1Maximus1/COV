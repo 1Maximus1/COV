{
  "cells": [
    {
      "cell_type": "markdown",
      "metadata": {
        "id": "FMqboNwO4rVs"
      },
      "source": [
        "# **Курс \"Програмування на мові Python\"**"
      ]
    },
    {
      "cell_type": "markdown",
      "metadata": {
        "id": "A2T6MigL5Z06"
      },
      "source": [
        "## **Практичні зайняття №13-14**\n",
        "\n",
        "### Тема: \"Робота з файлами. Робота зі спеціальними форматами файлів\""
      ]
    },
    {
      "cell_type": "markdown",
      "metadata": {
        "id": "cfCdgK2zXm7e"
      },
      "source": [
        "### **Завдання 1 (1,5 бали)**\n",
        "\n",
        "У 1939 році друком вийшов роман американського письменика Ернеста Вінсента Райта \"Ґетсбі\". Особливу увагу публіки він здобув через те, що письменник жодного разу не використав у романі літеру \"e\" (роман складається з більше ніж 50,000 слів), яка є найбільш вживаною літерою в англійській мові.\n",
        "\n",
        "Порахуйте кількість входжень кожної літери у текст роману. Виведіть список літер англійського алфавіту, а також інформацію про те, скільки відсотків від усіх літер тексту складає кожна літера алфавіту.\n",
        "\n",
        "Зауваження:\n",
        "\n",
        "1. Програма має ігнорувати будь-які символи, окрім літер.\n",
        "\n",
        "2. Переведіть усі літери у верхній або у нижній регістр.\n",
        "\n",
        "3. Під час виведення відсортуйте літери у порядку зменшення їхнього відсотка. Літера \"e\" має стояти на останньому місці у цьому списку (хоча кілька літер e там все ж таки зустрічається).\n",
        "\n",
        "4. Виведіть перші 5 та останні 5 літер відсортованого списку разом з відсотковими значеннями, що їм відповідають. Відсотки округліть до тисячних."
      ]
    },
    {
      "cell_type": "code",
      "execution_count": null,
      "metadata": {
        "id": "u4-fHJJ6U462",
        "tags": []
      },
      "outputs": [],
      "source": [
        "all_letters = {\n",
        "    'a': 0, 'b': 0, 'c': 0, 'd': 0, 'e': 0, 'f': 0, 'g': 0, 'h': 0,\n",
        "    'i': 0, 'j': 0, 'k': 0, 'l': 0, 'm': 0, 'n': 0, 'o': 0, 'p': 0,\n",
        "    'q': 0, 'r': 0, 's': 0, 't': 0, 'u': 0, 'v': 0, 'w': 0, 'x': 0,\n",
        "    'y': 0, 'z': 0\n",
        "}\n",
        "gadsby = open('gadsby.txt', 'r')\n",
        "gadsby.seek(21, 0)\n",
        "for line in gadsby:\n",
        "    for letter in line:\n",
        "        if letter.lower() in all_letters:\n",
        "            all_letters[letter.lower()] += 1\n",
        "gadsby.close()\n",
        "# DELETED the extra symbols because it used in the heads of novel\n",
        "all_letters['i'] -= 60\n",
        "all_letters['v'] -= 16\n",
        "all_letters['x'] -= 68\n",
        "all_letters['l'] -= 4\n",
        "\n",
        "\n",
        "values = list()\n",
        "keys = list()\n",
        "for k, v in all_letters.items():\n",
        "    values.append(v)\n",
        "\n",
        "values.sort(reverse=True)\n",
        "\n",
        "procent_l = list()\n",
        "\n",
        "for n in values:\n",
        "    procent_l.append(round((n/sum(values)*100), 3))\n",
        "\n",
        "for i in range(len(all_letters)):\n",
        "    for k, v in all_letters.items():\n",
        "        if v == values[i]:\n",
        "            keys.append(k)\n",
        "\n",
        "for i in range(5):\n",
        "    print(f'{i+1}.', f'{keys[i]} = {values[i]} letters, in percentage: {procent_l[i]}')\n",
        "\n",
        "for i in range(5):\n",
        "    print(f'{i+6}.', f'{keys[len(values)-5+i]} = {values[len(values)-5+i]} letters, in percentage: {procent_l[len(values)-5+i]}')"
      ]
    },
    {
      "cell_type": "markdown",
      "metadata": {
        "id": "A34oz70eU463"
      },
      "source": [
        "### **Завдання 2 (1,5 бали)**\n",
        "\n",
        "Архів archive.zip містить 140 txt-файлів, в яких збережено інфорамцію про те, якими іменами називали дітей у США в період з 1880 по 2019 рік.\n",
        "\n",
        "Структура рядка кожного файлу така:\n",
        "\n",
        "*name,sex,number_of_occurrences*\n",
        "\n",
        "Напишіть програму, яка зчитуватиме кожен файл та визначатиме окремо чоловічі, окремо жіночі імена, що були найпопулярнішими хоча б в один з років. Далі програма повинна підраховувати, скільки разів кожне з цих імен ставало найпопулярнишим, та виводити ранжовані списки чоловічіх та жіночих імен у вигляді:\n",
        "\n",
        "```\n",
        "Michael 44\n",
        "John 44\n",
        "Robert 17\n",
        "...\n",
        "\n",
        "Mary 76\n",
        "Jennifer 15\n",
        "Emily 12\n",
        "...\n",
        "```"
      ]
    },
    {
      "cell_type": "code",
      "execution_count": null,
      "metadata": {},
      "outputs": [],
      "source": [
        "import os\n",
        "import re\n",
        "\n",
        "OUTPUTNUMBER=20\n",
        "THELAST=True\n",
        "\n",
        "def obhodFile(path, all_name, limit):\n",
        "    for el in os.listdir(path):\n",
        "        if os.path.isfile(path+'\\\\' + el):\n",
        "            with open(path+'\\\\' + el, 'r') as f:\n",
        "                lines = f.readlines()\n",
        "                for name in lines:\n",
        "                    new_line = name.replace('\\n', '')\n",
        "                    split = re.split(',', new_line)\n",
        "                    if split[0] in all_name:\n",
        "                        all_name[split[0]] = [\n",
        "                            all_name[split[0]][0]+1]+[split[1]]\n",
        "                    else:\n",
        "                        all_name[split[0]] = [1]+[split[1]]\n",
        "    if el == limit:\n",
        "        return all_name\n",
        "    return obhodFile(path+'\\\\'+el, all_name)\n",
        "\n",
        "\n",
        "path = 'D:\\\\Vsproj\\\\achieve'\n",
        "\n",
        "all_name = {}\n",
        "\n",
        "all_name = obhodFile(path, all_name, 'yob2019.txt')\n",
        "\n",
        "men = list()\n",
        "women = list()\n",
        "for k, v in all_name.items():\n",
        "    if 'F' in v:\n",
        "        women.append([k]+[v[0]])\n",
        "    else:\n",
        "        men.append([k]+[v[0]])\n",
        "\n",
        "women.sort(key=lambda x: x[1], reverse=True)\n",
        "men.sort(key=lambda x: x[1], reverse=True)\n",
        "\n",
        "for i in range(OUTPUTNUMBER):\n",
        "    print(*women[i])\n",
        "\n",
        "if THELAST:\n",
        "    for i in range(OUTPUTNUMBER):\n",
        "        print(*women[len(women)-OUTPUTNUMBER+i])\n",
        "\n",
        "print('-'*35)\n",
        "\n",
        "for i in range(OUTPUTNUMBER):\n",
        "    print(*men[i])\n",
        "\n",
        "if THELAST:\n",
        "    for i in range(OUTPUTNUMBER):\n",
        "        print(*men[len(men)-OUTPUTNUMBER+i])\n"
      ]
    },
    {
      "cell_type": "markdown",
      "metadata": {},
      "source": [
        "### **Завдання 3 (1,5 бали)**\n",
        "\n",
        "Створіть CSV-файл, що буде містити від 5 до 10 пісень (творів) вашого улюбленого музиканта. Назва файлу - ім'я музиканта (композитора) або назва гурту.\n",
        "\n",
        "1. Обов'язково додайте до файлу рядок з назвами двох колонок (Song, Year) або (Composition, Year).\n",
        "\n",
        "2. Після запису файлу роздрукуйте назву файлу та усі наявні у файлі рядки (включно із заголовками).\n",
        "\n",
        "3. Для запису та зчитування рядків скористайтесь функціями csv.DictWriter() та csv.DictReader()."
      ]
    },
    {
      "cell_type": "code",
      "execution_count": null,
      "metadata": {},
      "outputs": [],
      "source": [
        "import csv\n",
        "filename = 'lil_peep.csv'\n",
        "with open('lil_peep.csv', 'w', newline='') as csvfile:\n",
        "    fieldnames = ['Composition', 'Year']\n",
        "    writer = csv.DictWriter(csvfile, fieldnames=fieldnames)\n",
        "    writer.writeheader()\n",
        "    writer.writerow({'Composition': 'Compositions',\n",
        "                     'Year': 'Years',})\n",
        "    writer.writerow({'Composition': 'The Brightside',\n",
        "                     'Year': '2017',})\n",
        "    writer.writerow({'Composition': 'Benz Truck',\n",
        "                     'Year': '2017',})\n",
        "    writer.writerow({'Composition': 'Save That Shit',\n",
        "                     'Year': '2017',})\n",
        "    writer.writerow({'Composition': 'Spotlight',\n",
        "                     'Year': '2018',})\n",
        "    writer.writerow({'Composition': 'witchblades',\n",
        "                     'Year': '2017',})\n",
        "    writer.writerow({'Composition': 'Life Is Beautiful',\n",
        "                     'Year': '2018',})\n",
        "    writer.writerow({'Composition': \"Leanin’\",\n",
        "                     'Year': '2017',})\n",
        "with open('lil_peep.csv', newline=\"\") as csvfile:\n",
        "    reader = csv.DictReader(csvfile)\n",
        "    print(f\"\\n{filename}\")\n",
        "    print(\"------------------------------\")\n",
        "    for row in reader:\n",
        "        print(row[\"Composition\"], \" - \", row[\"Year\"])"
      ]
    },
    {
      "attachments": {},
      "cell_type": "markdown",
      "metadata": {},
      "source": [
        "### **Завдання 4 (1,5 бали)**\n",
        "\n",
        "COCO Dataset - набір фотографій та анотацій до них. Його дуже часто використовують для тренування класифікаторів, призначених для розпізнавання об'єктів та визначення ключових точок на зображеннях.\n",
        "\n",
        "Завантажте файли з описом фотографій COCO Dataset за посиланням: [COCO Dataset](http://images.cocodataset.org/annotations/image_info_test2017.zip).\n",
        "\n",
        "Відкрийте файл image_info_test-dev2017.json. Інформація про фотографії з бази COCO міститься у полі \"images\". Інформація про категорії, на які розділені всі фотографії, міститься у полі \"categories\".\n",
        "\n",
        "1. Визначте кількість фотографій, інформацію про які можна знайти у цьому файлі (кількість елементів, що відповідають ключу \"images\").\n",
        "\n",
        "2. Визначте кількість наявних категорій (кількість елементів, що відповідають ключу \"categories\").\n",
        "\n",
        "3. Виведіть посилання на фотографію 000000000001.jpg (\"coco_url\"). Також виведіть висоту цієї фотографії (\"height\"), ширину (\"width\") та її ідентифікатор (\"id\").\n",
        "\n",
        "4. Виведіть назву фотографії з набільшим номером.\n",
        "\n",
        "Опис структури JSON-файлу для набору фотографій COCO можна знайти за посиланням: [Data format](https://cocodataset.org/#format-data).\n",
        "\n",
        "Щоб перевірити правильність результатів, у VS Code встановіть розширення JSON та відкрийте файл image_info_test-dev2017.json. Розширення автоматично визначає кількість елементів у кожному полі."
      ]
    },
    {
      "cell_type": "code",
      "execution_count": null,
      "metadata": {},
      "outputs": [],
      "source": [
        "import json\n",
        "\n",
        "with open(\"image_info_test-dev2017.json\", \"r\") as read_file:\n",
        "    data = json.load(read_file)\n",
        "\n",
        "counter = 0\n",
        "for i in data[\"images\"]:\n",
        "    counter += 1\n",
        "\n",
        "print(f\"JSON document have {counter} photos inside\") \n",
        "\n",
        "counter = 0\n",
        "for i in data[\"categories\"]:\n",
        "    counter += 1\n",
        "\n",
        "print(f\"JSON document have {counter} categories inside\")   \n",
        "\n",
        "for i in data[\"images\"]:\n",
        "    if i[\"file_name\"] == \"000000000001.jpg\":\n",
        "        link = i[\"coco_url\"]\n",
        "        width = i[\"width\"]\n",
        "        height = i[\"height\"]\n",
        "        id = i[\"id\"]\n",
        "print(f\"Link to this photo is {link}\\nWindth of this photo is {width} and height of this photo is {height}\\nId of this photo is {id}\")\n",
        "\n",
        "current_max = 0\n",
        "for i in data[\"images\"]:\n",
        "    digit_name = int(i[\"file_name\"][0:12])\n",
        "    if current_max < digit_name:\n",
        "        current_max = digit_name\n",
        "        max_name = i[\"file_name\"]\n",
        "\n",
        "print(f\"Name of photo with biggest number is {max_name}\")"
      ]
    }
  ],
  "metadata": {
    "colab": {
      "collapsed_sections": [],
      "name": "Practice_14_KM_01.ipynb",
      "provenance": []
    },
    "kernelspec": {
      "display_name": "Python 3",
      "language": "python",
      "name": "python3"
    },
    "language_info": {
      "codemirror_mode": {
        "name": "ipython",
        "version": 3
      },
      "file_extension": ".py",
      "mimetype": "text/x-python",
      "name": "python",
      "nbconvert_exporter": "python",
      "pygments_lexer": "ipython3",
      "version": "3.10.7 (tags/v3.10.7:6cc6b13, Sep  5 2022, 14:08:36) [MSC v.1933 64 bit (AMD64)]"
    },
    "vscode": {
      "interpreter": {
        "hash": "58837b1b657ea91009af8409fc244ae3b5ccf93ea980d6fb6b80adc5f697f4cc"
      }
    }
  },
  "nbformat": 4,
  "nbformat_minor": 0
}
